{
 "cells": [
  {
   "cell_type": "code",
   "execution_count": 34,
   "id": "40b4b5a3-3ef9-47d6-8a42-78b76c015535",
   "metadata": {},
   "outputs": [],
   "source": [
    "import pandas as pd\n",
    "import numpy as np\n",
    "%config InlineBackend.figure_format = 'retina'\n",
    "import numpy as np\n",
    "import matplotlib.pyplot as plt\n",
    "from sklearn import datasets\n",
    "from sklearn import svm\n",
    "from sklearn.metrics import accuracy_score\n",
    "from sklearn.model_selection import KFold\n",
    "import scipy\n",
    "from matplotlib.colors import ListedColormap\n",
    "from functools import partial\n",
    "from sklearn.model_selection import KFold\n",
    "import numpy as np"
   ]
  },
  {
   "cell_type": "code",
   "execution_count": 35,
   "id": "25eef725-de83-43ee-abbc-edbe7dd70c0b",
   "metadata": {},
   "outputs": [
    {
     "name": "stdout",
     "output_type": "stream",
     "text": [
      "(130, 2)\n",
      "(130, 1)\n",
      "[-0.81784764 -0.61230964 -1.        ]\n"
     ]
    }
   ],
   "source": [
    "df = pd.read_csv('wine.data', header=None, delimiter=',', dtype=float)\n",
    "df = df.drop([2,3,4,5,6,8,9,10,11,12,13], axis=1)\n",
    "df = df[df[0] != 3.0]\n",
    "df[0] = df[0].replace({1.0: 1, 2.0: -1})\n",
    "df[0] = df[0].astype(float)\n",
    "X = df.iloc[:, 1:3].values  # Selects columns 2 and 3\n",
    "from sklearn.preprocessing import StandardScaler\n",
    "scaler = StandardScaler()\n",
    "X = scaler.fit_transform(X) # THIS REALLY HELPED\n",
    "Y = df.iloc[:, 0].values    # Selects column 1\n",
    "Y = Y.reshape(-1, 1).astype(float)  \n",
    "X_and_Y = np.hstack((X, Y))     # Stack them together for shuffling.\n",
    "np.random.seed(1)               # Set the random seed.\n",
    "np.random.shuffle(X_and_Y)      # Shuffle the data points in X_and_Y array\n",
    "\n",
    "print(X.shape)\n",
    "print(Y.shape)\n",
    "print(X_and_Y[0])"
   ]
  },
  {
   "cell_type": "code",
   "execution_count": 36,
   "id": "a946adc9-5d0d-43ae-9e9e-91db4bff2adf",
   "metadata": {
    "editable": false,
    "id": "a2ec2938",
    "jupyter": {
     "source_hidden": true
    }
   },
   "outputs": [],
   "source": [
    "def vis(X, Y, knn_classifier=None):\n",
    "    # Visualize k-NN.\n",
    "    if knn_classifier is not None:\n",
    "        # Calculate min, max and create grids.\n",
    "        h = .02\n",
    "        x0_min, x0_max = X[:, 0].min() - 0.1, X[:, 0].max() + 0.1\n",
    "        x1_min, x1_max = X[:, 1].min() - 0.1, X[:, 1].max() + 0.1\n",
    "        x0s, x1s = np.meshgrid(np.arange(x0_min, x0_max, h),\n",
    "                               np.arange(x1_min, x1_max, h))\n",
    "        xs = np.stack([x0s, x1s], axis=-1).reshape(-1, 2)\n",
    "\n",
    "        # Predict class using kNN classifier and data.\n",
    "        ys_pred = np.array([knn_classifier(x) for x in xs])\n",
    "        ys_pred = ys_pred.reshape(x0s.shape)\n",
    "\n",
    "        # Put the result into a color plot.\n",
    "        # Color map: #00AAFF - blue, #FFAAAA - red, #AAFFAA - green\n",
    "\n",
    "        cmap_light = ListedColormap(['#00AAFF', '#FFAAAA'])\n",
    "        plt.pcolormesh(x0s, x1s, ys_pred, cmap=cmap_light, alpha=0.3)\n",
    "\n",
    "    indices_neg1 = (Y == -1).nonzero()[0]\n",
    "    indices_pos1 = (Y == 1).nonzero()[0]\n",
    "    plt.scatter(X[:,0][indices_neg1], X[:,1][indices_neg1],\n",
    "                c='blue', label='class -1', alpha=0.3)\n",
    "    plt.scatter(X[:,0][indices_pos1], X[:,1][indices_pos1],\n",
    "                c='red', label='class +1', alpha=0.3)\n",
    "    plt.legend()\n",
    "    plt.xlabel('$x_0$')\n",
    "    plt.ylabel('$x_1$')\n",
    "\n",
    "    plt.show()"
   ]
  },
  {
   "cell_type": "code",
   "execution_count": 37,
   "id": "bf68cab3-8337-4259-b74a-1e4c6a3e3c3d",
   "metadata": {
    "id": "4c09c728",
    "otter": {
     "tests": [
      "Q5_1"
     ]
    },
    "tags": []
   },
   "outputs": [],
   "source": [
    "# Euclidean distance.\n",
    "def calc_distance(x1, x2):\n",
    "    # x1, x2 are two NumPy vectors\n",
    "    # Return the Euclidean distance between x1 and x2. It should be a scalar.\n",
    "    dist = np.sqrt(np.sum((x1-x2)**2))\n",
    "    return dist\n",
    "\n",
    "# k nearest neighbor predictor.\n",
    "def f_knn(x, X_train, Y_train, k):\n",
    "    # Create the list of (distance, label) pairs.\n",
    "    dist_label_pairs = []\n",
    "    for xi, yi in zip(X_train, Y_train):\n",
    "        # Calculate the distance.\n",
    "        dist = calc_distance(xi, x)\n",
    "        # Add a (distance, label) pair to the list.\n",
    "        dist_label_pairs.append((dist, yi))\n",
    "    # Sort the pairs by distance (ascending).\n",
    "    sorted_dist_label_pairs = sorted(dist_label_pairs, key=lambda x:x[0])\n",
    "    # Obtain the first k pairs (corresponding to k smallest distances).\n",
    "    k_dist_label_pairs = sorted_dist_label_pairs[:k]\n",
    "    # Extract the labels of the k pairs.\n",
    "    k_labels = [label for _, label in k_dist_label_pairs]\n",
    "    # Count the number of +1 predictions and -1 predictions.\n",
    "    pos1_in_k_labels = 0\n",
    "    neg1_in_k_labels = 0\n",
    "    for label in k_labels:\n",
    "        if label == +1:\n",
    "            pos1_in_k_labels += 1\n",
    "        elif label == -1:\n",
    "            neg1_in_k_labels += 1\n",
    "    # Make the prediction based on counts.\n",
    "    if pos1_in_k_labels > neg1_in_k_labels:\n",
    "        y_pred = +1\n",
    "    else:\n",
    "        y_pred = -1\n",
    "\n",
    "    return y_pred\n",
    "\n",
    "# Judge function: 1(a != b). It supports scalar, vector and matrix.\n",
    "def judge(a, b):\n",
    "    return np.array(a != b).astype(np.float32)\n",
    "\n",
    "# Calculate error given feature vectors X and labels Y.\n",
    "def calc_error(X, Y, knn_classifier):\n",
    "    e = 0\n",
    "    n = len(X)\n",
    "    for (xi, yi) in zip(X, Y):\n",
    "        e += judge(yi, knn_classifier(xi))\n",
    "    e = 1.0 * e / n\n",
    "    return e"
   ]
  },
  {
   "cell_type": "markdown",
   "id": "087b5f66-f091-4e12-bd7a-cc14d730e267",
   "metadata": {},
   "source": [
    "# KNN\n",
    "# 20 training"
   ]
  },
  {
   "cell_type": "code",
   "execution_count": 45,
   "id": "ea1d4650-1d18-4a76-8c45-049a7ac16bce",
   "metadata": {},
   "outputs": [
    {
     "name": "stdout",
     "output_type": "stream",
     "text": [
      "(26, 2)\n",
      "(26,)\n",
      "(13, 2)\n",
      "(13,)\n",
      "(91, 2)\n",
      "(91,)\n"
     ]
    }
   ],
   "source": [
    "# Divide the data points into training, validation, and test sets\n",
    "X_shuffled = X_and_Y[:, :2]  # First two columns as features\n",
    "Y_shuffled = X_and_Y[:, 2]   # Third column as target\n",
    "\n",
    "# Compute split indices\n",
    "train_split = int(0.2 * len(X_shuffled))  # 20% for training\n",
    "val_split = train_split + int(0.1 * len(X_shuffled))  # Additional 20% for validation\n",
    "\n",
    "# Create the splits\n",
    "X_train = X_shuffled[:train_split]\n",
    "Y_train = Y_shuffled[:train_split]\n",
    "X_val = X_shuffled[train_split:val_split]\n",
    "Y_val = Y_shuffled[train_split:val_split]\n",
    "X_test = X_shuffled[val_split:]\n",
    "Y_test = Y_shuffled[val_split:]\n",
    "\n",
    "# Print shapes\n",
    "print(X_train.shape)\n",
    "print(Y_train.shape)\n",
    "print(X_val.shape)\n",
    "print(Y_val.shape)\n",
    "print(X_test.shape)\n",
    "print(Y_test.shape)\n"
   ]
  },
  {
   "cell_type": "code",
   "execution_count": 53,
   "id": "ff2f8143-40aa-4fe7-ac4e-fe17bb8c8882",
   "metadata": {},
   "outputs": [
    {
     "name": "stdout",
     "output_type": "stream",
     "text": [
      "k=1\n",
      "Validation error: 0.0\n",
      "\n",
      "k=2\n",
      "Validation error: 0.0\n",
      "\n",
      "k=3\n",
      "Validation error: 0.07692307692307693\n",
      "\n",
      "k=4\n",
      "Validation error: 0.07692307692307693\n",
      "\n",
      "k=5\n",
      "Validation error: 0.07692307692307693\n",
      "\n",
      "k=6\n",
      "Validation error: 0.07692307692307693\n",
      "\n",
      "k=7\n",
      "Validation error: 0.07692307692307693\n",
      "\n",
      "k=8\n",
      "Validation error: 0.0\n",
      "\n",
      "Best k=1\n",
      "Train error:0.0\n",
      "Test error: 0.08791208791208792\n"
     ]
    }
   ],
   "source": [
    "opt_val_error = 1.0\n",
    "opt_k = None\n",
    "\n",
    "# Try different k(s).\n",
    "for k in [1,2,3,4,5,6,7,8]:\n",
    "    # Visualize\n",
    "    #   1. Validation set (as points).\n",
    "    #   2. Decision boundary from training set (as background).\n",
    "    print(\"k={}\".format(k))\n",
    "    # Create a k-NN classifier with training set.\n",
    "    knn_classifier = partial(f_knn, X_train=X_train, Y_train=Y_train, k=k)\n",
    "    # Visualization.\n",
    "    #vis(X_train, Y_train, knn_classifier)\n",
    "    # Calculate validation error.\n",
    "    val_error = calc_error(X_val, Y_val, knn_classifier)\n",
    "    print(\"Validation error: {}\\n\".format(val_error))\n",
    "    if val_error < opt_val_error:\n",
    "        opt_val_error = val_error\n",
    "        opt_k = k\n",
    "        opt_knn_classifier = knn_classifier\n",
    "print(\"Best k={}\".format(opt_k))\n",
    "train_error = calc_error(X_train,Y_train,opt_knn_classifier)\n",
    "print(\"Train error:{}\".format(train_error))\n",
    "test_error = calc_error(X_test, Y_test, opt_knn_classifier)\n",
    "#vis(X_test, Y_test, knn_classifier)\n",
    "print(\"Test error: {}\".format(test_error))"
   ]
  },
  {
   "cell_type": "markdown",
   "id": "2989e309-3cf9-4588-bbee-d3070baa1b54",
   "metadata": {},
   "source": [
    "# 50 training"
   ]
  },
  {
   "cell_type": "code",
   "execution_count": 54,
   "id": "f75a42e7-0045-4e20-82c6-74235eeb21f1",
   "metadata": {},
   "outputs": [
    {
     "name": "stdout",
     "output_type": "stream",
     "text": [
      "(65, 2)\n",
      "(65,)\n",
      "(13, 2)\n",
      "(13,)\n",
      "(52, 2)\n",
      "(52,)\n"
     ]
    }
   ],
   "source": [
    "# Divide the data points into training, validation, and test sets\n",
    "X_shuffled = X_and_Y[:, :2]  # First two columns as features\n",
    "Y_shuffled = X_and_Y[:, 2]   # Third column as target\n",
    "\n",
    "# Compute split indices\n",
    "train_split = int(0.5 * len(X_shuffled))  # 20% for training\n",
    "val_split = train_split + int(0.1 * len(X_shuffled))  # Additional 20% for validation\n",
    "\n",
    "# Create the splits\n",
    "X_train = X_shuffled[:train_split]\n",
    "Y_train = Y_shuffled[:train_split]\n",
    "X_val = X_shuffled[train_split:val_split]\n",
    "Y_val = Y_shuffled[train_split:val_split]\n",
    "X_test = X_shuffled[val_split:]\n",
    "Y_test = Y_shuffled[val_split:]\n",
    "\n",
    "# Print shapes\n",
    "print(X_train.shape)\n",
    "print(Y_train.shape)\n",
    "print(X_val.shape)\n",
    "print(Y_val.shape)\n",
    "print(X_test.shape)\n",
    "print(Y_test.shape)\n"
   ]
  },
  {
   "cell_type": "code",
   "execution_count": 55,
   "id": "9e70d35e-ebac-4585-9c72-434bae1ca1de",
   "metadata": {},
   "outputs": [
    {
     "name": "stdout",
     "output_type": "stream",
     "text": [
      "k=1\n",
      "Validation error: 0.0\n",
      "\n",
      "k=2\n",
      "Validation error: 0.0\n",
      "\n",
      "k=3\n",
      "Validation error: 0.0\n",
      "\n",
      "k=4\n",
      "Validation error: 0.0\n",
      "\n",
      "k=5\n",
      "Validation error: 0.0\n",
      "\n",
      "k=6\n",
      "Validation error: 0.0\n",
      "\n",
      "k=7\n",
      "Validation error: 0.0\n",
      "\n",
      "k=8\n",
      "Validation error: 0.0\n",
      "\n",
      "Best k=1\n",
      "Train error:0.0\n",
      "Test error: 0.09615384615384616\n"
     ]
    }
   ],
   "source": [
    "opt_val_error = 1.0\n",
    "opt_k = None\n",
    "\n",
    "# Try different k(s).\n",
    "for k in [1,2,3,4,5,6,7,8]:\n",
    "    # Visualize\n",
    "    #   1. Validation set (as points).\n",
    "    #   2. Decision boundary from training set (as background).\n",
    "    print(\"k={}\".format(k))\n",
    "    # Create a k-NN classifier with training set.\n",
    "    knn_classifier = partial(f_knn, X_train=X_train, Y_train=Y_train, k=k)\n",
    "    # Visualization.\n",
    "    #vis(X_train, Y_train, knn_classifier)\n",
    "    # Calculate validation error.\n",
    "    val_error = calc_error(X_val, Y_val, knn_classifier)\n",
    "    print(\"Validation error: {}\\n\".format(val_error))\n",
    "    if val_error < opt_val_error:\n",
    "        opt_val_error = val_error\n",
    "        opt_k = k\n",
    "        opt_knn_classifier = knn_classifier\n",
    "print(\"Best k={}\".format(opt_k))\n",
    "train_error = calc_error(X_train,Y_train,opt_knn_classifier)\n",
    "print(\"Train error:{}\".format(train_error))\n",
    "test_error = calc_error(X_test, Y_test, opt_knn_classifier)\n",
    "#vis(X_test, Y_test, knn_classifier)\n",
    "print(\"Test error: {}\".format(test_error))"
   ]
  },
  {
   "cell_type": "markdown",
   "id": "b94ccac2-2ada-4f88-a003-e17b6d4b279e",
   "metadata": {},
   "source": [
    "# 80 training"
   ]
  },
  {
   "cell_type": "code",
   "execution_count": 56,
   "id": "8e5ffe1e-7b0c-43c2-9b6c-92114a9b731b",
   "metadata": {},
   "outputs": [
    {
     "name": "stdout",
     "output_type": "stream",
     "text": [
      "(104, 2)\n",
      "(104,)\n",
      "(13, 2)\n",
      "(13,)\n",
      "(13, 2)\n",
      "(13,)\n"
     ]
    }
   ],
   "source": [
    "# Divide the data points into training, validation, and test sets\n",
    "X_shuffled = X_and_Y[:, :2]  # First two columns as features\n",
    "Y_shuffled = X_and_Y[:, 2]   # Third column as target\n",
    "\n",
    "# Compute split indices\n",
    "train_split = int(0.8 * len(X_shuffled))  # 20% for training\n",
    "val_split = train_split + int(0.1 * len(X_shuffled))  # Additional 20% for validation\n",
    "\n",
    "# Create the splits\n",
    "X_train = X_shuffled[:train_split]\n",
    "Y_train = Y_shuffled[:train_split]\n",
    "X_val = X_shuffled[train_split:val_split]\n",
    "Y_val = Y_shuffled[train_split:val_split]\n",
    "X_test = X_shuffled[val_split:]\n",
    "Y_test = Y_shuffled[val_split:]\n",
    "\n",
    "# Print shapes\n",
    "print(X_train.shape)\n",
    "print(Y_train.shape)\n",
    "print(X_val.shape)\n",
    "print(Y_val.shape)\n",
    "print(X_test.shape)\n",
    "print(Y_test.shape)\n"
   ]
  },
  {
   "cell_type": "code",
   "execution_count": 57,
   "id": "15d40b5a-644d-4073-afe0-7041cf3c1969",
   "metadata": {},
   "outputs": [
    {
     "name": "stdout",
     "output_type": "stream",
     "text": [
      "k=1\n",
      "Validation error: 0.07692307692307693\n",
      "\n",
      "k=2\n",
      "Validation error: 0.15384615384615385\n",
      "\n",
      "k=3\n",
      "Validation error: 0.0\n",
      "\n",
      "k=4\n",
      "Validation error: 0.0\n",
      "\n",
      "k=5\n",
      "Validation error: 0.0\n",
      "\n",
      "k=6\n",
      "Validation error: 0.0\n",
      "\n",
      "k=7\n",
      "Validation error: 0.0\n",
      "\n",
      "k=8\n",
      "Validation error: 0.0\n",
      "\n",
      "Best k=3\n",
      "Train error:0.038461538461538464\n",
      "Test error: 0.23076923076923078\n"
     ]
    }
   ],
   "source": [
    "opt_val_error = 1.0\n",
    "opt_k = None\n",
    "\n",
    "# Try different k(s).\n",
    "for k in [1,2,3,4,5,6,7,8]:\n",
    "    # Visualize\n",
    "    #   1. Validation set (as points).\n",
    "    #   2. Decision boundary from training set (as background).\n",
    "    print(\"k={}\".format(k))\n",
    "    # Create a k-NN classifier with training set.\n",
    "    knn_classifier = partial(f_knn, X_train=X_train, Y_train=Y_train, k=k)\n",
    "    # Visualization.\n",
    "    #vis(X_train, Y_train, knn_classifier)\n",
    "    # Calculate validation error.\n",
    "    val_error = calc_error(X_val, Y_val, knn_classifier)\n",
    "    print(\"Validation error: {}\\n\".format(val_error))\n",
    "    if val_error < opt_val_error:\n",
    "        opt_val_error = val_error\n",
    "        opt_k = k\n",
    "        opt_knn_classifier = knn_classifier\n",
    "print(\"Best k={}\".format(opt_k))\n",
    "train_error = calc_error(X_train,Y_train,opt_knn_classifier)\n",
    "print(\"Train error:{}\".format(train_error))\n",
    "test_error = calc_error(X_test, Y_test, opt_knn_classifier)\n",
    "#vis(X_test, Y_test, knn_classifier)\n",
    "print(\"Test error: {}\".format(test_error))"
   ]
  },
  {
   "cell_type": "code",
   "execution_count": null,
   "id": "711c6ea8-153f-4a2b-bbf1-f642f87bee15",
   "metadata": {},
   "outputs": [],
   "source": []
  }
 ],
 "metadata": {
  "kernelspec": {
   "display_name": "Python 3 (ipykernel)",
   "language": "python",
   "name": "python3"
  },
  "language_info": {
   "codemirror_mode": {
    "name": "ipython",
    "version": 3
   },
   "file_extension": ".py",
   "mimetype": "text/x-python",
   "name": "python",
   "nbconvert_exporter": "python",
   "pygments_lexer": "ipython3",
   "version": "3.11.9"
  }
 },
 "nbformat": 4,
 "nbformat_minor": 5
}

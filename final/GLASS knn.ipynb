{
 "cells": [
  {
   "cell_type": "code",
   "execution_count": 40,
   "id": "40b4b5a3-3ef9-47d6-8a42-78b76c015535",
   "metadata": {},
   "outputs": [],
   "source": [
    "import pandas as pd\n",
    "import numpy as np\n",
    "%config InlineBackend.figure_format = 'retina'\n",
    "import numpy as np\n",
    "import matplotlib.pyplot as plt\n",
    "from sklearn import datasets\n",
    "from sklearn import svm\n",
    "from sklearn.metrics import accuracy_score\n",
    "from sklearn.model_selection import KFold\n",
    "import scipy\n",
    "from matplotlib.colors import ListedColormap\n",
    "from functools import partial\n",
    "from sklearn.model_selection import KFold\n",
    "import numpy as np\n",
    "from sklearn.preprocessing import StandardScaler"
   ]
  },
  {
   "cell_type": "code",
   "execution_count": 41,
   "id": "67b4b3fd-381e-4c13-88d9-316d60a7dd7d",
   "metadata": {},
   "outputs": [],
   "source": [
    "df = pd.read_csv('glass.data', header=None, delimiter=',', dtype=float)\n",
    "df = df.drop([0,1,2,3,4,5,6,8], axis=1)\n",
    "df = df[df[10].isin([1.0, 2.0])]\n",
    "df[10] = df[10].replace({1.0: 1, 2.0: -1})\n",
    "df[10] = df[10].astype(float)"
   ]
  },
  {
   "cell_type": "code",
   "execution_count": 42,
   "id": "833445f2-f8b7-4278-889d-7fa4cb9631b4",
   "metadata": {},
   "outputs": [
    {
     "name": "stdout",
     "output_type": "stream",
     "text": [
      "(146, 2)\n",
      "(146, 1)\n",
      "[-0.27868438 -0.69899332 -1.        ]\n",
      "(116, 2)\n",
      "(116,)\n",
      "(30, 2)\n",
      "(30,)\n"
     ]
    }
   ],
   "source": [
    "X = df.iloc[:, :-1].values  \n",
    "from sklearn.preprocessing import StandardScaler\n",
    "\n",
    "scaler = StandardScaler()\n",
    "X = scaler.fit_transform(X)\n",
    "Y = df.iloc[:, -1].values  \n",
    "Y = Y.reshape(-1, 1).astype(float) \n",
    "#Y[Y == 0] = -1 \n",
    "X_and_Y = np.hstack((X, Y))     # Stack them together for shuffling.\n",
    "np.random.seed(1)               # Set the random seed.\n",
    "np.random.shuffle(X_and_Y)      # Shuffle the data points in X_and_Y array\n",
    "\n",
    "print(X.shape)\n",
    "print(Y.shape)\n",
    "print(X_and_Y[0])\n",
    "# Divide the data points into training set and test set.\n",
    "X_shuffled = X_and_Y[:,:2]\n",
    "Y_shuffled = X_and_Y[:,2]\n",
    "\n",
    "split_index = int(0.8 * len(X_shuffled))  # 80% for training\n",
    "\n",
    "X_train = X_shuffled[:split_index]\n",
    "Y_train = Y_shuffled[:split_index]\n",
    "X_test = X_shuffled[split_index:]\n",
    "Y_test = Y_shuffled[split_index:]   \n",
    "print(X_train.shape)\n",
    "print(Y_train.shape)\n",
    "print(X_test.shape)\n",
    "print(Y_test.shape)"
   ]
  },
  {
   "cell_type": "code",
   "execution_count": 43,
   "id": "bf68cab3-8337-4259-b74a-1e4c6a3e3c3d",
   "metadata": {
    "id": "4c09c728",
    "otter": {
     "tests": [
      "Q5_1"
     ]
    },
    "tags": []
   },
   "outputs": [],
   "source": [
    "# Euclidean distance.\n",
    "def calc_distance(x1, x2):\n",
    "    # x1, x2 are two NumPy vectors\n",
    "    # Return the Euclidean distance between x1 and x2. It should be a scalar.\n",
    "    dist = np.sqrt(np.sum((x1-x2)**2))\n",
    "    return dist\n",
    "\n",
    "# k nearest neighbor predictor.\n",
    "def f_knn(x, X_train, Y_train, k):\n",
    "    # Create the list of (distance, label) pairs.\n",
    "    dist_label_pairs = []\n",
    "    for xi, yi in zip(X_train, Y_train):\n",
    "        # Calculate the distance.\n",
    "        dist = calc_distance(xi, x)\n",
    "        # Add a (distance, label) pair to the list.\n",
    "        dist_label_pairs.append((dist, yi))\n",
    "    # Sort the pairs by distance (ascending).\n",
    "    sorted_dist_label_pairs = sorted(dist_label_pairs, key=lambda x:x[0])\n",
    "    # Obtain the first k pairs (corresponding to k smallest distances).\n",
    "    k_dist_label_pairs = sorted_dist_label_pairs[:k]\n",
    "    # Extract the labels of the k pairs.\n",
    "    k_labels = [label for _, label in k_dist_label_pairs]\n",
    "    # Count the number of +1 predictions and -1 predictions.\n",
    "    pos1_in_k_labels = 0\n",
    "    neg1_in_k_labels = 0\n",
    "    for label in k_labels:\n",
    "        if label == +1:\n",
    "            pos1_in_k_labels += 1\n",
    "        elif label == -1:\n",
    "            neg1_in_k_labels += 1\n",
    "    # Make the prediction based on counts.\n",
    "    if pos1_in_k_labels > neg1_in_k_labels:\n",
    "        y_pred = +1\n",
    "    else:\n",
    "        y_pred = -1\n",
    "\n",
    "    return y_pred\n",
    "\n",
    "# Judge function: 1(a != b). It supports scalar, vector and matrix.\n",
    "def judge(a, b):\n",
    "    return np.array(a != b).astype(np.float32)\n",
    "\n",
    "# Calculate error given feature vectors X and labels Y.\n",
    "def calc_error(X, Y, knn_classifier):\n",
    "    e = 0\n",
    "    n = len(X)\n",
    "    for (xi, yi) in zip(X, Y):\n",
    "        e += judge(yi, knn_classifier(xi))\n",
    "    e = 1.0 * e / n\n",
    "    return e"
   ]
  },
  {
   "cell_type": "markdown",
   "id": "087b5f66-f091-4e12-bd7a-cc14d730e267",
   "metadata": {},
   "source": [
    "# KNN\n",
    "# 20 training"
   ]
  },
  {
   "cell_type": "code",
   "execution_count": 44,
   "id": "ea1d4650-1d18-4a76-8c45-049a7ac16bce",
   "metadata": {},
   "outputs": [
    {
     "name": "stdout",
     "output_type": "stream",
     "text": [
      "(29, 2)\n",
      "(29,)\n",
      "(14, 2)\n",
      "(14,)\n",
      "(103, 2)\n",
      "(103,)\n"
     ]
    }
   ],
   "source": [
    "# Divide the data points into training, validation, and test sets\n",
    "X_shuffled = X_and_Y[:, :2]  # First two columns as features\n",
    "Y_shuffled = X_and_Y[:, 2]   # Third column as target\n",
    "\n",
    "# Compute split indices\n",
    "train_split = int(0.2 * len(X_shuffled))  # 20% for training\n",
    "val_split = train_split + int(0.1 * len(X_shuffled))  # Additional 20% for validation\n",
    "\n",
    "# Create the splits\n",
    "X_train = X_shuffled[:train_split]\n",
    "Y_train = Y_shuffled[:train_split]\n",
    "X_val = X_shuffled[train_split:val_split]\n",
    "Y_val = Y_shuffled[train_split:val_split]\n",
    "X_test = X_shuffled[val_split:]\n",
    "Y_test = Y_shuffled[val_split:]\n",
    "\n",
    "# Print shapes\n",
    "print(X_train.shape)\n",
    "print(Y_train.shape)\n",
    "print(X_val.shape)\n",
    "print(Y_val.shape)\n",
    "print(X_test.shape)\n",
    "print(Y_test.shape)\n"
   ]
  },
  {
   "cell_type": "code",
   "execution_count": 45,
   "id": "ff2f8143-40aa-4fe7-ac4e-fe17bb8c8882",
   "metadata": {},
   "outputs": [
    {
     "name": "stdout",
     "output_type": "stream",
     "text": [
      "k=1\n",
      "Validation error: 0.21428571428571427\n",
      "\n",
      "k=2\n",
      "Validation error: 0.21428571428571427\n",
      "\n",
      "k=3\n",
      "Validation error: 0.2857142857142857\n",
      "\n",
      "k=4\n",
      "Validation error: 0.2857142857142857\n",
      "\n",
      "k=5\n",
      "Validation error: 0.2857142857142857\n",
      "\n",
      "k=6\n",
      "Validation error: 0.2857142857142857\n",
      "\n",
      "k=7\n",
      "Validation error: 0.42857142857142855\n",
      "\n",
      "k=8\n",
      "Validation error: 0.42857142857142855\n",
      "\n",
      "Best k=1\n",
      "Train error:0.034482758620689655\n",
      "Test error: 0.3106796116504854\n"
     ]
    }
   ],
   "source": [
    "opt_val_error = 1.0\n",
    "opt_k = None\n",
    "\n",
    "# Try different k(s).\n",
    "for k in [1,2,3,4,5,6,7,8]:\n",
    "    # Visualize\n",
    "    #   1. Validation set (as points).\n",
    "    #   2. Decision boundary from training set (as background).\n",
    "    print(\"k={}\".format(k))\n",
    "    # Create a k-NN classifier with training set.\n",
    "    knn_classifier = partial(f_knn, X_train=X_train, Y_train=Y_train, k=k)\n",
    "    # Visualization.\n",
    "    #vis(X_train, Y_train, knn_classifier)\n",
    "    # Calculate validation error.\n",
    "    val_error = calc_error(X_val, Y_val, knn_classifier)\n",
    "    print(\"Validation error: {}\\n\".format(val_error))\n",
    "    if val_error < opt_val_error:\n",
    "        opt_val_error = val_error\n",
    "        opt_k = k\n",
    "        opt_knn_classifier = knn_classifier\n",
    "print(\"Best k={}\".format(opt_k))\n",
    "train_error = calc_error(X_train,Y_train,opt_knn_classifier)\n",
    "print(\"Train error:{}\".format(train_error))\n",
    "test_error = calc_error(X_test, Y_test, opt_knn_classifier)\n",
    "#vis(X_test, Y_test, knn_classifier)\n",
    "print(\"Test error: {}\".format(test_error))"
   ]
  },
  {
   "cell_type": "markdown",
   "id": "2989e309-3cf9-4588-bbee-d3070baa1b54",
   "metadata": {},
   "source": [
    "# 50 training"
   ]
  },
  {
   "cell_type": "code",
   "execution_count": 46,
   "id": "f75a42e7-0045-4e20-82c6-74235eeb21f1",
   "metadata": {},
   "outputs": [
    {
     "name": "stdout",
     "output_type": "stream",
     "text": [
      "(73, 2)\n",
      "(73,)\n",
      "(14, 2)\n",
      "(14,)\n",
      "(59, 2)\n",
      "(59,)\n"
     ]
    }
   ],
   "source": [
    "# Divide the data points into training, validation, and test sets\n",
    "X_shuffled = X_and_Y[:, :2]  # First two columns as features\n",
    "Y_shuffled = X_and_Y[:, 2]   # Third column as target\n",
    "\n",
    "# Compute split indices\n",
    "train_split = int(0.5 * len(X_shuffled))  # 20% for training\n",
    "val_split = train_split + int(0.1 * len(X_shuffled))  # Additional 20% for validation\n",
    "\n",
    "# Create the splits\n",
    "X_train = X_shuffled[:train_split]\n",
    "Y_train = Y_shuffled[:train_split]\n",
    "X_val = X_shuffled[train_split:val_split]\n",
    "Y_val = Y_shuffled[train_split:val_split]\n",
    "X_test = X_shuffled[val_split:]\n",
    "Y_test = Y_shuffled[val_split:]\n",
    "\n",
    "# Print shapes\n",
    "print(X_train.shape)\n",
    "print(Y_train.shape)\n",
    "print(X_val.shape)\n",
    "print(Y_val.shape)\n",
    "print(X_test.shape)\n",
    "print(Y_test.shape)\n"
   ]
  },
  {
   "cell_type": "code",
   "execution_count": 47,
   "id": "9e70d35e-ebac-4585-9c72-434bae1ca1de",
   "metadata": {},
   "outputs": [
    {
     "name": "stdout",
     "output_type": "stream",
     "text": [
      "k=1\n",
      "Validation error: 0.21428571428571427\n",
      "\n",
      "k=2\n",
      "Validation error: 0.35714285714285715\n",
      "\n",
      "k=3\n",
      "Validation error: 0.2857142857142857\n",
      "\n",
      "k=4\n",
      "Validation error: 0.2857142857142857\n",
      "\n",
      "k=5\n",
      "Validation error: 0.42857142857142855\n",
      "\n",
      "k=6\n",
      "Validation error: 0.2857142857142857\n",
      "\n",
      "k=7\n",
      "Validation error: 0.21428571428571427\n",
      "\n",
      "k=8\n",
      "Validation error: 0.2857142857142857\n",
      "\n",
      "Best k=1\n",
      "Train error:0.0273972602739726\n",
      "Test error: 0.3898305084745763\n"
     ]
    }
   ],
   "source": [
    "opt_val_error = 1.0\n",
    "opt_k = None\n",
    "\n",
    "# Try different k(s).\n",
    "for k in [1,2,3,4,5,6,7,8]:\n",
    "    # Visualize\n",
    "    #   1. Validation set (as points).\n",
    "    #   2. Decision boundary from training set (as background).\n",
    "    print(\"k={}\".format(k))\n",
    "    # Create a k-NN classifier with training set.\n",
    "    knn_classifier = partial(f_knn, X_train=X_train, Y_train=Y_train, k=k)\n",
    "    # Visualization.\n",
    "    #vis(X_train, Y_train, knn_classifier)\n",
    "    # Calculate validation error.\n",
    "    val_error = calc_error(X_val, Y_val, knn_classifier)\n",
    "    print(\"Validation error: {}\\n\".format(val_error))\n",
    "    if val_error < opt_val_error:\n",
    "        opt_val_error = val_error\n",
    "        opt_k = k\n",
    "        opt_knn_classifier = knn_classifier\n",
    "print(\"Best k={}\".format(opt_k))\n",
    "train_error = calc_error(X_train,Y_train,opt_knn_classifier)\n",
    "print(\"Train error:{}\".format(train_error))\n",
    "test_error = calc_error(X_test, Y_test, opt_knn_classifier)\n",
    "#vis(X_test, Y_test, knn_classifier)\n",
    "print(\"Test error: {}\".format(test_error))"
   ]
  },
  {
   "cell_type": "markdown",
   "id": "b94ccac2-2ada-4f88-a003-e17b6d4b279e",
   "metadata": {},
   "source": [
    "# 80 training"
   ]
  },
  {
   "cell_type": "code",
   "execution_count": 48,
   "id": "8e5ffe1e-7b0c-43c2-9b6c-92114a9b731b",
   "metadata": {},
   "outputs": [
    {
     "name": "stdout",
     "output_type": "stream",
     "text": [
      "(116, 2)\n",
      "(116,)\n",
      "(14, 2)\n",
      "(14,)\n",
      "(16, 2)\n",
      "(16,)\n"
     ]
    }
   ],
   "source": [
    "# Divide the data points into training, validation, and test sets\n",
    "X_shuffled = X_and_Y[:, :2]  # First two columns as features\n",
    "Y_shuffled = X_and_Y[:, 2]   # Third column as target\n",
    "\n",
    "# Compute split indices\n",
    "train_split = int(0.8 * len(X_shuffled))  # 20% for training\n",
    "val_split = train_split + int(0.1 * len(X_shuffled))  # Additional 20% for validation\n",
    "\n",
    "# Create the splits\n",
    "X_train = X_shuffled[:train_split]\n",
    "Y_train = Y_shuffled[:train_split]\n",
    "X_val = X_shuffled[train_split:val_split]\n",
    "Y_val = Y_shuffled[train_split:val_split]\n",
    "X_test = X_shuffled[val_split:]\n",
    "Y_test = Y_shuffled[val_split:]\n",
    "\n",
    "# Print shapes\n",
    "print(X_train.shape)\n",
    "print(Y_train.shape)\n",
    "print(X_val.shape)\n",
    "print(Y_val.shape)\n",
    "print(X_test.shape)\n",
    "print(Y_test.shape)\n"
   ]
  },
  {
   "cell_type": "code",
   "execution_count": 49,
   "id": "15d40b5a-644d-4073-afe0-7041cf3c1969",
   "metadata": {},
   "outputs": [
    {
     "name": "stdout",
     "output_type": "stream",
     "text": [
      "k=1\n",
      "Validation error: 0.35714285714285715\n",
      "\n",
      "k=2\n",
      "Validation error: 0.35714285714285715\n",
      "\n",
      "k=3\n",
      "Validation error: 0.2857142857142857\n",
      "\n",
      "k=4\n",
      "Validation error: 0.35714285714285715\n",
      "\n",
      "k=5\n",
      "Validation error: 0.2857142857142857\n",
      "\n",
      "k=6\n",
      "Validation error: 0.2857142857142857\n",
      "\n",
      "k=7\n",
      "Validation error: 0.2857142857142857\n",
      "\n",
      "k=8\n",
      "Validation error: 0.2857142857142857\n",
      "\n",
      "Best k=3\n",
      "Train error:0.14655172413793102\n",
      "Test error: 0.375\n"
     ]
    }
   ],
   "source": [
    "opt_val_error = 1.0\n",
    "opt_k = None\n",
    "\n",
    "# Try different k(s).\n",
    "for k in [1,2,3,4,5,6,7,8]:\n",
    "    # Visualize\n",
    "    #   1. Validation set (as points).\n",
    "    #   2. Decision boundary from training set (as background).\n",
    "    print(\"k={}\".format(k))\n",
    "    # Create a k-NN classifier with training set.\n",
    "    knn_classifier = partial(f_knn, X_train=X_train, Y_train=Y_train, k=k)\n",
    "    # Visualization.\n",
    "    #vis(X_train, Y_train, knn_classifier)\n",
    "    # Calculate validation error.\n",
    "    val_error = calc_error(X_val, Y_val, knn_classifier)\n",
    "    print(\"Validation error: {}\\n\".format(val_error))\n",
    "    if val_error < opt_val_error:\n",
    "        opt_val_error = val_error\n",
    "        opt_k = k\n",
    "        opt_knn_classifier = knn_classifier\n",
    "print(\"Best k={}\".format(opt_k))\n",
    "train_error = calc_error(X_train,Y_train,opt_knn_classifier)\n",
    "print(\"Train error:{}\".format(train_error))\n",
    "test_error = calc_error(X_test, Y_test, opt_knn_classifier)\n",
    "#vis(X_test, Y_test, knn_classifier)\n",
    "print(\"Test error: {}\".format(test_error))"
   ]
  },
  {
   "cell_type": "code",
   "execution_count": null,
   "id": "711c6ea8-153f-4a2b-bbf1-f642f87bee15",
   "metadata": {},
   "outputs": [],
   "source": []
  },
  {
   "cell_type": "code",
   "execution_count": null,
   "id": "b9b290f2-44eb-40a9-8b75-b7567ea77061",
   "metadata": {},
   "outputs": [],
   "source": []
  }
 ],
 "metadata": {
  "kernelspec": {
   "display_name": "Python 3 (ipykernel)",
   "language": "python",
   "name": "python3"
  },
  "language_info": {
   "codemirror_mode": {
    "name": "ipython",
    "version": 3
   },
   "file_extension": ".py",
   "mimetype": "text/x-python",
   "name": "python",
   "nbconvert_exporter": "python",
   "pygments_lexer": "ipython3",
   "version": "3.11.9"
  }
 },
 "nbformat": 4,
 "nbformat_minor": 5
}
